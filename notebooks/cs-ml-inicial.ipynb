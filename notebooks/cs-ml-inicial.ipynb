{
 "cells": [
  {
   "cell_type": "markdown",
   "id": "805ce1c5",
   "metadata": {},
   "source": [
    "# Modelo Inicial de Machine Learning"
   ]
  },
  {
   "cell_type": "code",
   "execution_count": 22,
   "id": "b380b398",
   "metadata": {},
   "outputs": [],
   "source": [
    "import pandas as pd\n",
    "import numpy as np\n",
    "import pandas as pd\n",
    "\n",
    "from sklearn.model_selection import train_test_split\n",
    "from sklearn.impute import SimpleImputer\n",
    "from sklearn.metrics import r2_score, mean_absolute_error, mean_squared_error\n",
    "\n",
    "from lazypredict.Supervised import LazyRegressor"
   ]
  },
  {
   "cell_type": "code",
   "execution_count": 3,
   "id": "11f73734",
   "metadata": {},
   "outputs": [],
   "source": [
    "# Leer los datos\n",
    "file_path = '../data/interim/bike_sharing_cleaned.csv'\n",
    "df = pd.read_csv(file_path)"
   ]
  },
  {
   "cell_type": "code",
   "execution_count": 6,
   "id": "c33bf4cd",
   "metadata": {},
   "outputs": [],
   "source": [
    "# Correr el nb previo para obtener funciones necesarias\n",
    "%run ./bike_sharing_ml_project.ipynb"
   ]
  },
  {
   "cell_type": "code",
   "execution_count": 7,
   "id": "83ca72a5",
   "metadata": {},
   "outputs": [
    {
     "name": "stdout",
     "output_type": "stream",
     "text": [
      "\n",
      "Iniciando corrección de tipos de datos...\n",
      "Tipos de datos corregidos de forma semántica.\n",
      "\n",
      "Puliendo los tipos de datos finales...\n",
      "Tipos de datos finalizados.\n"
     ]
    }
   ],
   "source": [
    "# Al pasar el csv al dvc no s guardaron los tipos de datos, por lo que es necesario corregirlos\n",
    "df = correct_initial_data_types(df)\n",
    "df = finalize_data_types(df)"
   ]
  },
  {
   "cell_type": "code",
   "execution_count": 8,
   "id": "95926266",
   "metadata": {},
   "outputs": [
    {
     "data": {
      "text/plain": [
       "dteday        datetime64[ns]\n",
       "season              category\n",
       "yr                  category\n",
       "mnth                category\n",
       "hr                  category\n",
       "holiday             category\n",
       "weekday             category\n",
       "workingday          category\n",
       "weathersit          category\n",
       "temp                 float64\n",
       "atemp                float64\n",
       "hum                  float64\n",
       "windspeed            float64\n",
       "casual                 int64\n",
       "registered             int64\n",
       "cnt                    int64\n",
       "dtype: object"
      ]
     },
     "execution_count": 8,
     "metadata": {},
     "output_type": "execute_result"
    }
   ],
   "source": [
    "df.dtypes"
   ]
  },
  {
   "cell_type": "code",
   "execution_count": 20,
   "id": "2e1fb65c",
   "metadata": {},
   "outputs": [],
   "source": [
    "def rmse(y_true, y_pred):\n",
    "    return np.sqrt(mean_squared_error(y_true, y_pred))"
   ]
  },
  {
   "cell_type": "code",
   "execution_count": 14,
   "id": "71faa1f9",
   "metadata": {},
   "outputs": [],
   "source": [
    "# Definir columnas categoricas y numericas para su analisis exploratorio\n",
    "cat_cols = df.select_dtypes(include=[\"category\"]).columns.tolist()\n",
    "num_cols = df.select_dtypes(include=[\"number\"]).columns.tolist()\n",
    "dt_cols = df.select_dtypes(include=[\"datetime64[ns]\"]).columns.tolist()\n"
   ]
  },
  {
   "cell_type": "code",
   "execution_count": 27,
   "id": "d21aa013",
   "metadata": {},
   "outputs": [],
   "source": [
    "target = 'cnt'\n",
    "X = df.drop(columns=[target])\n",
    "y = df[target]\n",
    "\n",
    "X_train, X_test, y_train, y_test = train_test_split(\n",
    "    X, y, test_size=0.20, random_state=42\n",
    ")"
   ]
  },
  {
   "cell_type": "code",
   "execution_count": 28,
   "id": "bdc96936",
   "metadata": {},
   "outputs": [
    {
     "data": {
      "application/vnd.jupyter.widget-view+json": {
       "model_id": "33ab8fa1ce5e47138c251127f6e9687b",
       "version_major": 2,
       "version_minor": 0
      },
      "text/plain": [
       "  0%|          | 0/42 [00:00<?, ?it/s]"
      ]
     },
     "metadata": {},
     "output_type": "display_data"
    },
    {
     "name": "stdout",
     "output_type": "stream",
     "text": [
      "[LightGBM] [Info] Auto-choosing col-wise multi-threading, the overhead of testing was 0.000234 seconds.\n",
      "You can set `force_col_wise=true` to remove the overhead.\n",
      "[LightGBM] [Info] Total Bins 824\n",
      "[LightGBM] [Info] Number of data points in the train set: 12026, number of used features: 6\n",
      "[LightGBM] [Info] Start training from score 189.626060\n"
     ]
    }
   ],
   "source": [
    "reg = LazyRegressor(ignore_warnings=True, random_state=42, verbose=0)\n",
    "models_df, predictions = reg.fit(X_train, X_test, y_train, y_test)"
   ]
  },
  {
   "cell_type": "code",
   "execution_count": null,
   "id": "6a3550c2",
   "metadata": {},
   "outputs": [
    {
     "data": {
      "text/html": [
       "<div>\n",
       "<style scoped>\n",
       "    .dataframe tbody tr th:only-of-type {\n",
       "        vertical-align: middle;\n",
       "    }\n",
       "\n",
       "    .dataframe tbody tr th {\n",
       "        vertical-align: top;\n",
       "    }\n",
       "\n",
       "    .dataframe thead th {\n",
       "        text-align: right;\n",
       "    }\n",
       "</style>\n",
       "<table border=\"1\" class=\"dataframe\">\n",
       "  <thead>\n",
       "    <tr style=\"text-align: right;\">\n",
       "      <th></th>\n",
       "    </tr>\n",
       "  </thead>\n",
       "  <tbody>\n",
       "  </tbody>\n",
       "</table>\n",
       "</div>"
      ],
      "text/plain": [
       "Empty DataFrame\n",
       "Columns: []\n",
       "Index: []"
      ]
     },
     "metadata": {},
     "output_type": "display_data"
    }
   ],
   "source": [
    "y_true = np.asarray(y_test).reshape(-1)\n",
    "n_test = y_true.shape[0]\n",
    "\n",
    "rows = []\n",
    "skipped = []\n",
    "\n",
    "for model_name, y_pred in predictions.items():\n",
    "    y_hat = np.asarray(y_pred).reshape(-1)\n",
    "    if y_hat.shape[0] != n_test:\n",
    "        skipped.append((model_name, f\"len={y_hat.shape[0]} vs {n_test}\"))\n",
    "        continue\n",
    "    if not np.all(np.isfinite(y_hat)) or not np.all(np.isfinite(y_true)):\n",
    "        skipped.append((model_name, \"non-finite\"))\n",
    "        continue\n",
    "\n",
    "    rows.append({\n",
    "        \"Model\": model_name,\n",
    "        \"RMSE\": rmse(y_true, y_hat),\n",
    "        \"MAE\": mean_absolute_error(y_true, y_hat),\n",
    "        \"R2\": r2_score(y_true, y_hat),\n",
    "    })\n",
    "\n",
    "metrics_df = pd.DataFrame(rows)"
   ]
  },
  {
   "cell_type": "code",
   "execution_count": 30,
   "id": "950c9bdf",
   "metadata": {},
   "outputs": [
    {
     "data": {
      "text/html": [
       "<div>\n",
       "<style scoped>\n",
       "    .dataframe tbody tr th:only-of-type {\n",
       "        vertical-align: middle;\n",
       "    }\n",
       "\n",
       "    .dataframe tbody tr th {\n",
       "        vertical-align: top;\n",
       "    }\n",
       "\n",
       "    .dataframe thead th {\n",
       "        text-align: right;\n",
       "    }\n",
       "</style>\n",
       "<table border=\"1\" class=\"dataframe\">\n",
       "  <thead>\n",
       "    <tr style=\"text-align: right;\">\n",
       "      <th></th>\n",
       "    </tr>\n",
       "  </thead>\n",
       "  <tbody>\n",
       "  </tbody>\n",
       "</table>\n",
       "</div>"
      ],
      "text/plain": [
       "Empty DataFrame\n",
       "Columns: []\n",
       "Index: []"
      ]
     },
     "metadata": {},
     "output_type": "display_data"
    }
   ],
   "source": [
    "display(metrics_df)"
   ]
  },
  {
   "cell_type": "code",
   "execution_count": null,
   "id": "ab79226d",
   "metadata": {},
   "outputs": [],
   "source": []
  }
 ],
 "metadata": {
  "kernelspec": {
   "display_name": "ml_env",
   "language": "python",
   "name": "python3"
  },
  "language_info": {
   "codemirror_mode": {
    "name": "ipython",
    "version": 3
   },
   "file_extension": ".py",
   "mimetype": "text/x-python",
   "name": "python",
   "nbconvert_exporter": "python",
   "pygments_lexer": "ipython3",
   "version": "3.13.5"
  }
 },
 "nbformat": 4,
 "nbformat_minor": 5
}
