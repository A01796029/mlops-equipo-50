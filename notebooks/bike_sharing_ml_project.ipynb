{
 "cells": [
  {
   "cell_type": "markdown",
   "id": "18f788e2",
   "metadata": {},
   "source": [
    "### 1. IMPORTACIÓN DE LIBRERÍAS"
   ]
  },
  {
   "cell_type": "code",
   "execution_count": null,
   "id": "9309b3ed",
   "metadata": {},
   "outputs": [],
   "source": [
    "import pandas as pd\n",
    "import numpy as np"
   ]
  },
  {
   "cell_type": "markdown",
   "id": "761524a9",
   "metadata": {},
   "source": [
    "### 2. CARGA DE LOS DATOS (DE MOMENTO CONSIDERANDO UN .CSV)"
   ]
  },
  {
   "cell_type": "code",
   "execution_count": null,
   "id": "57dad4c0",
   "metadata": {},
   "outputs": [],
   "source": [
    "def load_data(file_path: str) -> pd.DataFrame | None:\n",
    "    \"\"\"\n",
    "    Carga un conjunto de datos desde una ruta de archivo CSV.\n",
    "\n",
    "    Esta función encapsula la lógica de lectura de datos con Pandas,\n",
    "    incluyendo un manejo básico de errores si el archivo no se encuentra.\n",
    "\n",
    "    Args:\n",
    "        file_path (str): La ruta al archivo .csv que se va a cargar.\n",
    "\n",
    "    Returns:\n",
    "        pd.DataFrame | None: Un DataFrame de Pandas con los datos cargados,\n",
    "        o None si ocurre un error (ej. archivo no encontrado).\n",
    "    \"\"\"\n",
    "    try:\n",
    "        # Intenta leer el archivo CSV y lo carga en un DataFrame\n",
    "        df = pd.read_csv(file_path)\n",
    "        print(f\"Datos cargados exitosamente desde: {file_path}\")\n",
    "        return df\n",
    "    except FileNotFoundError:\n",
    "        # Manejo de error si el archivo no existe en la ruta especificada\n",
    "        print(f\"Error: El archivo no fue encontrado en la ruta: {file_path}\")\n",
    "        return None\n",
    "    except Exception as e:\n",
    "        # Manejo de otros posibles errores durante la carga\n",
    "        print(f\"Ocurrió un error inesperado al cargar el archivo: {e}\")\n",
    "        return None"
   ]
  }
 ],
 "metadata": {
  "language_info": {
   "name": "python"
  }
 },
 "nbformat": 4,
 "nbformat_minor": 5
}
