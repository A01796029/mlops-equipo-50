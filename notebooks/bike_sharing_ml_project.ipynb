{
 "cells": [
  {
   "cell_type": "markdown",
   "id": "18f788e2",
   "metadata": {},
   "source": [
    "### 1. IMPORTACIÓN DE LIBRERÍAS"
   ]
  },
  {
   "cell_type": "code",
   "execution_count": 1,
   "id": "9309b3ed",
   "metadata": {},
   "outputs": [],
   "source": [
    "import pandas as pd\n",
    "import numpy as np"
   ]
  },
  {
   "cell_type": "markdown",
   "id": "761524a9",
   "metadata": {},
   "source": [
    "### 2. CARGA DE LOS DATOS (DE MOMENTO CONSIDERANDO UN .CSV)"
   ]
  },
  {
   "cell_type": "code",
   "execution_count": 2,
   "id": "57dad4c0",
   "metadata": {},
   "outputs": [],
   "source": [
    "def load_data(file_path: str) -> pd.DataFrame | None:\n",
    "    \"\"\"\n",
    "    Carga un conjunto de datos desde una ruta de archivo CSV.\n",
    "\n",
    "    Esta función encapsula la lógica de lectura de datos con Pandas,\n",
    "    incluyendo un manejo básico de errores si el archivo no se encuentra.\n",
    "\n",
    "    Args:\n",
    "        file_path (str): La ruta al archivo .csv que se va a cargar.\n",
    "\n",
    "    Returns:\n",
    "        pd.DataFrame | None: Un DataFrame de Pandas con los datos cargados,\n",
    "        o None si ocurre un error (ej. archivo no encontrado).\n",
    "    \"\"\"\n",
    "    try:\n",
    "        # Intenta leer el archivo CSV y lo carga en un DataFrame\n",
    "        df = pd.read_csv(file_path)\n",
    "        print(f\"Datos cargados exitosamente desde: {file_path}\")\n",
    "        return df\n",
    "    except FileNotFoundError:\n",
    "        # Manejo de error si el archivo no existe en la ruta especificada\n",
    "        print(f\"Error: El archivo no fue encontrado en la ruta: {file_path}\")\n",
    "        return None\n",
    "    except Exception as e:\n",
    "        # Manejo de otros posibles errores durante la carga\n",
    "        print(f\"Ocurrió un error inesperado al cargar el archivo: {e}\")\n",
    "        return None"
   ]
  },
  {
   "cell_type": "markdown",
   "id": "f175ed98",
   "metadata": {},
   "source": [
    "### 3. DIAGNÓSTICO INICIAL"
   ]
  },
  {
   "cell_type": "code",
   "execution_count": 3,
   "id": "18d824d4",
   "metadata": {},
   "outputs": [],
   "source": [
    "def get_data_overview(df: pd.DataFrame, df_name: str = \"DataFrame\") -> None:\n",
    "    \"\"\"\n",
    "    Imprime un resumen completo y diagnóstico de un DataFrame.\n",
    "\n",
    "    Incluye dimensiones, tipos de datos, estadísticas descriptivas,\n",
    "    conteo de duplicados y porcentaje de valores nulos.\n",
    "\n",
    "    Args:\n",
    "        df (pd.DataFrame): El DataFrame que se va a analizar.\n",
    "        df_name (str): Un nombre opcional para el DataFrame que se mostrará en los reportes.\n",
    "    \"\"\"\n",
    "    print(f\"\\n===============ANÁLISIS EXPLORATORIO RÁPIDO PARA: '{df_name}'===============\")\n",
    "\n",
    "    # 1. Dimensiones del DataFrame\n",
    "    print(f\"\\n**Dimensiones:** {df.shape[0]} filas y {df.shape[1]} columnas.\")\n",
    "\n",
    "    # 2. Tipos de datos y valores no nulos\n",
    "    print(\"\\n**Tipos de Datos y Valores No Nulos:**\")\n",
    "    df.info()\n",
    "\n",
    "    # 3. Estadísticas Descriptivas para variables numéricas\n",
    "    print(\"\\n**Estadísticas Descriptivas (Numéricas):**\")\n",
    "    # Usamos .T para transponer la tabla y hacerla más legible\n",
    "    print(df.describe().T)\n",
    "\n",
    "    # 4. Conteo de filas duplicadas\n",
    "    duplicates = df.duplicated().sum()\n",
    "    print(f\"\\n**Filas Duplicadas:** {duplicates} filas duplicadas encontradas.\")\n",
    "\n",
    "    # 5. Porcentaje de Valores Nulos por columna\n",
    "    null_percentage = (df.isnull().sum() / len(df)) * 100\n",
    "    null_info = null_percentage[null_percentage > 0].sort_values(ascending=False)\n",
    "    \n",
    "    if not null_info.empty:\n",
    "        print(\"\\n**Porcentaje de Valores Nulos (>0%):**\")\n",
    "        print(null_info)\n",
    "    else:\n",
    "        print(\"\\n**No se encontraron valores nulos.**\")\n",
    "    \n",
    "    print(\"\\nFin del análisis.\")"
   ]
  }
 ],
 "metadata": {
  "kernelspec": {
   "display_name": "Python 3",
   "language": "python",
   "name": "python3"
  },
  "language_info": {
   "codemirror_mode": {
    "name": "ipython",
    "version": 3
   },
   "file_extension": ".py",
   "mimetype": "text/x-python",
   "name": "python",
   "nbconvert_exporter": "python",
   "pygments_lexer": "ipython3",
   "version": "3.13.7"
  }
 },
 "nbformat": 4,
 "nbformat_minor": 5
}
